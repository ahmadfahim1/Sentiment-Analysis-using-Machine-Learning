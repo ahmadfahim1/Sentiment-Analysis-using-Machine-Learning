{
  "cells": [
    {
      "cell_type": "code",
      "source": [
        "from google.colab import drive\n",
        "drive.mount('/content/drive')"
      ],
      "metadata": {
        "colab": {
          "base_uri": "https://localhost:8080/"
        },
        "id": "zAbTgYoIk3nZ",
        "outputId": "4692141b-cd3f-4c44-f17b-b1f4eac9af6a"
      },
      "execution_count": null,
      "outputs": [
        {
          "output_type": "stream",
          "name": "stdout",
          "text": [
            "Mounted at /content/drive\n"
          ]
        }
      ]
    },
    {
      "cell_type": "markdown",
      "metadata": {
        "id": "ze82jxA4ku1Z"
      },
      "source": [
        "### Data Class"
      ]
    },
    {
      "cell_type": "code",
      "execution_count": null,
      "metadata": {
        "id": "mEB81ppYku1d"
      },
      "outputs": [],
      "source": [
        "import random\n",
        "\n",
        "class Sentiment:\n",
        "    NEGATIVE = \"NEGATIVE\"\n",
        "    NEUTRAL = \"NEUTRAL\"\n",
        "    POSITIVE = \"POSITIVE\"\n",
        "\n",
        "class Review:\n",
        "    def __init__(self, text, score):\n",
        "        self.text = text\n",
        "        self.score = score\n",
        "        self.sentiment = self.get_sentiment()\n",
        "        \n",
        "    def get_sentiment(self):\n",
        "        if self.score <= 2:\n",
        "            return Sentiment.NEGATIVE\n",
        "        elif self.score == 3:\n",
        "            return Sentiment.NEUTRAL\n",
        "        else: #Score of 4 or 5\n",
        "            return Sentiment.POSITIVE\n",
        "\n",
        "class ReviewContainer:\n",
        "    def __init__(self, reviews):\n",
        "        self.reviews = reviews\n",
        "        \n",
        "    def get_text(self):\n",
        "        return [x.text for x in self.reviews]\n",
        "    \n",
        "    def get_sentiment(self):\n",
        "        return [x.sentiment for x in self.reviews]\n",
        "        \n",
        "    def evenly_distribute(self):\n",
        "        negative = list(filter(lambda x: x.sentiment == Sentiment.NEGATIVE, self.reviews))\n",
        "        positive = list(filter(lambda x: x.sentiment == Sentiment.POSITIVE, self.reviews))\n",
        "        positive_shrunk = positive[:len(negative)]\n",
        "        self.reviews = negative + positive_shrunk\n",
        "        random.shuffle(self.reviews)\n",
        "        \n",
        "        "
      ]
    },
    {
      "cell_type": "markdown",
      "metadata": {
        "id": "j-OYURgbku1h"
      },
      "source": [
        "### Load Data"
      ]
    },
    {
      "cell_type": "code",
      "execution_count": null,
      "metadata": {
        "colab": {
          "base_uri": "https://localhost:8080/",
          "height": 125
        },
        "id": "9neP5pc6ku1i",
        "outputId": "7d93dd12-9fe0-4056-909d-4fd781ebd2ef"
      },
      "outputs": [
        {
          "output_type": "execute_result",
          "data": {
            "text/plain": [
              "'I hoped for Mia to have some peace in this book, but her story is so real and raw.  Broken World was so touching and emotional because you go from Mia\\'s trauma to her trying to cope.  I love the way the story displays how there is no \"just bouncing back\" from being sexually assaulted.  Mia showed us how those demons come for you every day and how sometimes they best you. I was so in the moment with Broken World and hurt with Mia because she was surrounded by people but so alone and I understood her feelings.  I found myself wishing I could give her some of my courage and strength or even just to be there for her.  Thank you Lizzy for putting a great character\\'s voice on a strong subject and making it so that other peoples story may be heard through Mia\\'s.'"
            ],
            "application/vnd.google.colaboratory.intrinsic+json": {
              "type": "string"
            }
          },
          "metadata": {},
          "execution_count": 3
        }
      ],
      "source": [
        "import json\n",
        "\n",
        "file_name = '/content/drive/MyDrive/ML_Final_Lab/data/sentiment/Books_small_10000.json'\n",
        "\n",
        "reviews = []\n",
        "with open(file_name) as f:\n",
        "    for line in f:\n",
        "        review = json.loads(line)\n",
        "        reviews.append(Review(review['reviewText'], review['overall']))\n",
        "        \n",
        "reviews[5].text\n",
        "        "
      ]
    },
    {
      "cell_type": "markdown",
      "metadata": {
        "id": "4dVGuTaHku1k"
      },
      "source": [
        "### Prep Data"
      ]
    },
    {
      "cell_type": "code",
      "execution_count": null,
      "metadata": {
        "id": "fZLWEYkdku1l"
      },
      "outputs": [],
      "source": [
        "from sklearn.model_selection import train_test_split\n",
        "\n",
        "training, test = train_test_split(reviews, test_size=0.33, random_state=42)\n",
        "\n",
        "train_container = ReviewContainer(training)\n",
        "\n",
        "test_container = ReviewContainer(test)"
      ]
    },
    {
      "cell_type": "code",
      "execution_count": null,
      "metadata": {
        "colab": {
          "base_uri": "https://localhost:8080/"
        },
        "id": "g9LJFucoku1m",
        "outputId": "6625b831-750d-4d44-97e3-1e99a92e2262"
      },
      "outputs": [
        {
          "output_type": "stream",
          "name": "stdout",
          "text": [
            "436\n",
            "436\n"
          ]
        }
      ],
      "source": [
        "train_container.evenly_distribute()\n",
        "train_x = train_container.get_text()\n",
        "train_y = train_container.get_sentiment()\n",
        "\n",
        "test_container.evenly_distribute()\n",
        "test_x = test_container.get_text()\n",
        "test_y = test_container.get_sentiment()\n",
        "\n",
        "print(train_y.count(Sentiment.POSITIVE))\n",
        "print(train_y.count(Sentiment.NEGATIVE))"
      ]
    },
    {
      "cell_type": "markdown",
      "metadata": {
        "id": "1MlDELmwku1o"
      },
      "source": [
        "#### Bag of words vectorization"
      ]
    },
    {
      "cell_type": "code",
      "execution_count": null,
      "metadata": {
        "colab": {
          "base_uri": "https://localhost:8080/"
        },
        "id": "RIo9x0sCku1p",
        "outputId": "7f57e3ba-b36e-41dc-8a66-f8dcad764225"
      },
      "outputs": [
        {
          "output_type": "stream",
          "name": "stdout",
          "text": [
            "This read was a little more intense than the first read, Kamina story is basically told of how she gets screwed up with the wrong guy. From there everything starts getting crazier and I couldn't put the book down! Great job!\n",
            "[[0. 0. 0. ... 0. 0. 0.]]\n"
          ]
        }
      ],
      "source": [
        "from sklearn.feature_extraction.text import CountVectorizer, TfidfVectorizer\n",
        "\n",
        "# This book is great !\n",
        "# This book was so bad\n",
        "\n",
        "vectorizer = TfidfVectorizer()\n",
        "train_x_vectors = vectorizer.fit_transform(train_x)\n",
        "\n",
        "test_x_vectors = vectorizer.transform(test_x)\n",
        "\n",
        "print(train_x[0])\n",
        "print(train_x_vectors[0].toarray())\n",
        "\n",
        "\n",
        "\n"
      ]
    },
    {
      "cell_type": "markdown",
      "metadata": {
        "id": "KBoFAxHkku1r"
      },
      "source": [
        "#### Linear SVM\n",
        "\n",
        "\n",
        "\n",
        "\n",
        "\n",
        "\n",
        "\n",
        "\n",
        "\n",
        "\n",
        "\n",
        "\n",
        "\n",
        "\n",
        "\n",
        "\n",
        "\n"
      ]
    },
    {
      "cell_type": "code",
      "execution_count": null,
      "metadata": {
        "colab": {
          "base_uri": "https://localhost:8080/"
        },
        "id": "i0tT_W4Gku1s",
        "outputId": "fff67083-abf7-4e1d-9614-9f1e6389e9ff"
      },
      "outputs": [
        {
          "output_type": "execute_result",
          "data": {
            "text/plain": [
              "array(['NEGATIVE'], dtype='<U8')"
            ]
          },
          "metadata": {},
          "execution_count": 7
        }
      ],
      "source": [
        "from sklearn import svm\n",
        "\n",
        "clf_svm = svm.SVC(kernel='linear')\n",
        "\n",
        "clf_svm.fit(train_x_vectors, train_y)\n",
        "\n",
        "test_x[0]\n",
        "\n",
        "clf_svm.predict(test_x_vectors[0])\n",
        "\n",
        "\n",
        "\n",
        "\n",
        "\n"
      ]
    },
    {
      "cell_type": "markdown",
      "source": [
        "# **Hyperparameter Tuning**"
      ],
      "metadata": {
        "id": "huV5prMFGAvW"
      }
    },
    {
      "cell_type": "code",
      "source": [
        "param_grid = {'C': [0.1, 1,10, 20, 1000],\n",
        "              'gamma': [1, 0.1, 0.01, 0.001],\n",
        "              'degree':[1,6,25,50,100],\n",
        "              'kernel': ['linear','rbf','sigmoid','poly']}"
      ],
      "metadata": {
        "id": "F4PMj8Uv-IO1"
      },
      "execution_count": null,
      "outputs": []
    },
    {
      "cell_type": "code",
      "source": [
        "from sklearn.model_selection import GridSearchCV\n",
        "from sklearn.svm import SVC\n",
        "grid = GridSearchCV(SVC(), param_grid, refit = False, verbose = 1)\n",
        "grid.fit(train_x_vectors,train_y)"
      ],
      "metadata": {
        "colab": {
          "base_uri": "https://localhost:8080/"
        },
        "id": "al5vSQu7-P4T",
        "outputId": "30d384ba-14d7-4822-9e1d-8393a55f7310"
      },
      "execution_count": null,
      "outputs": [
        {
          "output_type": "stream",
          "name": "stdout",
          "text": [
            "Fitting 5 folds for each of 400 candidates, totalling 2000 fits\n"
          ]
        },
        {
          "output_type": "execute_result",
          "data": {
            "text/plain": [
              "GridSearchCV(estimator=SVC(),\n",
              "             param_grid={'C': [0.1, 1, 10, 20, 1000],\n",
              "                         'degree': [1, 6, 25, 50, 100],\n",
              "                         'gamma': [1, 0.1, 0.01, 0.001],\n",
              "                         'kernel': ['linear', 'rbf', 'sigmoid', 'poly']},\n",
              "             refit=False, verbose=1)"
            ]
          },
          "metadata": {},
          "execution_count": 14
        }
      ]
    },
    {
      "cell_type": "code",
      "source": [
        "grid.best_params_"
      ],
      "metadata": {
        "colab": {
          "base_uri": "https://localhost:8080/"
        },
        "id": "1XdZrvPaEWYT",
        "outputId": "b22657cd-2447-4e39-f43d-8bc9d2fdb182"
      },
      "execution_count": null,
      "outputs": [
        {
          "output_type": "execute_result",
          "data": {
            "text/plain": [
              "{'C': 10, 'degree': 1, 'gamma': 1, 'kernel': 'rbf'}"
            ]
          },
          "metadata": {},
          "execution_count": 15
        }
      ]
    },
    {
      "cell_type": "code",
      "source": [
        "svm_model = svm.SVC(C=10, degree= 1, gamma= 1, kernel= 'rbf')\n",
        "svm_model.fit(train_x_vectors, train_y)\n",
        "svm_model.score(test_x_vectors, test_y)"
      ],
      "metadata": {
        "colab": {
          "base_uri": "https://localhost:8080/"
        },
        "id": "0Fx2vVMUEegv",
        "outputId": "8c0729c1-cfb4-4d3f-8f3a-367669631de9"
      },
      "execution_count": null,
      "outputs": [
        {
          "output_type": "execute_result",
          "data": {
            "text/plain": [
              "0.8197115384615384"
            ]
          },
          "metadata": {},
          "execution_count": 16
        }
      ]
    },
    {
      "cell_type": "markdown",
      "metadata": {
        "id": "u3bxl4Yvku1u"
      },
      "source": [
        "## Evaluation"
      ]
    },
    {
      "cell_type": "code",
      "execution_count": null,
      "metadata": {
        "colab": {
          "base_uri": "https://localhost:8080/"
        },
        "id": "tSHI00a_ku1v",
        "outputId": "7d6f524c-6cdf-4f53-9096-799667ffb110"
      },
      "outputs": [
        {
          "output_type": "stream",
          "name": "stdout",
          "text": [
            "0.8076923076923077\n",
            "0.8197115384615384\n"
          ]
        }
      ],
      "source": [
        "# Mean Accuracy\n",
        "print(clf_svm.score(test_x_vectors, test_y))\n",
        "print(svm_model.score(test_x_vectors, test_y))\n"
      ]
    },
    {
      "cell_type": "markdown",
      "source": [
        "**Prediction**"
      ],
      "metadata": {
        "id": "aFdeAngI8lrY"
      }
    },
    {
      "cell_type": "code",
      "execution_count": null,
      "metadata": {
        "colab": {
          "base_uri": "https://localhost:8080/"
        },
        "id": "CtuRI4LFku1w",
        "outputId": "1d5827c1-e4d4-41c2-e2a4-8186cc743777"
      },
      "outputs": [
        {
          "output_type": "execute_result",
          "data": {
            "text/plain": [
              "array(['NEGATIVE', 'NEGATIVE', 'NEGATIVE', 'POSITIVE', 'NEGATIVE'],\n",
              "      dtype='<U8')"
            ]
          },
          "metadata": {},
          "execution_count": 23
        }
      ],
      "source": [
        "test_set = ['waste of money', \"bad book do not buy\", 'horrible waste of time', 'good product', 'bad product']\n",
        "new_test = vectorizer.transform(test_set)\n",
        "\n",
        "clf_svm.predict(new_test)\n",
        "\n"
      ]
    },
    {
      "cell_type": "code",
      "source": [
        "svm_model.predict(new_test)"
      ],
      "metadata": {
        "colab": {
          "base_uri": "https://localhost:8080/"
        },
        "id": "XH1KaOyuF2PO",
        "outputId": "72410f34-fa7f-4f67-cbe8-8c442e240275"
      },
      "execution_count": null,
      "outputs": [
        {
          "output_type": "execute_result",
          "data": {
            "text/plain": [
              "array(['NEGATIVE', 'NEGATIVE', 'NEGATIVE', 'POSITIVE', 'NEGATIVE'],\n",
              "      dtype='<U8')"
            ]
          },
          "metadata": {},
          "execution_count": 22
        }
      ]
    }
  ],
  "metadata": {
    "kernelspec": {
      "display_name": "Python 3",
      "language": "python",
      "name": "python3"
    },
    "language_info": {
      "codemirror_mode": {
        "name": "ipython",
        "version": 3
      },
      "file_extension": ".py",
      "mimetype": "text/x-python",
      "name": "python",
      "nbconvert_exporter": "python",
      "pygments_lexer": "ipython3",
      "version": "3.8.3"
    },
    "colab": {
      "name": "Sentiment_Analysis.ipynb",
      "provenance": [],
      "collapsed_sections": []
    }
  },
  "nbformat": 4,
  "nbformat_minor": 0
}